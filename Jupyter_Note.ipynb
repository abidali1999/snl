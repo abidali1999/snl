{
 "cells": [
  {
   "cell_type": "markdown",
   "metadata": {},
   "source": [
    "<center>\n",
    "    <img src=\"https://s3-api.us-geo.objectstorage.softlayer.net/cf-courses-data/CognitiveClass/Logos/organization_logo/organization_logo.png\" width=\"300\" alt=\"cognitiveclass.ai logo\"  />\n",
    "</center>\n"
   ]
  },
  {
   "cell_type": "markdown",
   "metadata": {},
   "source": [
    "#### Add your code below following the instructions given in the course\n"
   ]
  },
  {
   "cell_type": "markdown",
   "metadata": {},
   "source": [
    "<h1>My Jupyter Notebook on IBM Watson Studio</h1>"
   ]
  },
  {
   "cell_type": "markdown",
   "metadata": {},
   "source": [
    "<strong>Abid Ali</strong><br>\n",
    "Cloud Practioner"
   ]
  },
  {
   "cell_type": "markdown",
   "metadata": {},
   "source": [
    "<em>I am interested in data science because it is hard to miss such a huge and emergin field of computer science. It excites me to learn new technologies and I want to keep my sillset on top 1%.<em>"
   ]
  },
  {
   "cell_type": "markdown",
   "metadata": {},
   "source": [
    "<h3>My code says 'hello world', or does it?</h3>"
   ]
  },
  {
   "cell_type": "code",
   "execution_count": 1,
   "metadata": {},
   "outputs": [
    {
     "name": "stdout",
     "output_type": "stream",
     "text": [
      "sorry, I have a boyfriend\n"
     ]
    }
   ],
   "source": [
    "_print=print\n",
    "\n",
    "def print(str):\n",
    "    if str=='hello world':\n",
    "        _print('sorry, I have a boyfriend')\n",
    "    else: _print(str)\n",
    "    \n",
    "print('hello world')\n"
   ]
  },
  {
   "cell_type": "markdown",
   "metadata": {},
   "source": [
    "<h1>The Main Languages of the Web</h1>\n",
    "<ul>\n",
    "<li>HTML is the standard markup language for creating Web pages</li>\n",
    "<li>HTML describes the structure of a Web page, and consists of a series of elements</li>\n",
    "<li>HTML elements tell the browser how to display the content</li>\n",
    "</ul>\n",
    "<hr>\n",
    "<ol>\n",
    "<li>CSS is a language that describes how HTML elements are to be displayed on screen<li>\n",
    "<li>CSS saves a lot of work, because it can control the layout of multiple web pages all at once</li>\n",
    "<li>JavaScript can change HTML content and attribute values.</li>\n",
    "</ol>\n",
    "<hr>\n",
    "<table>\n",
    "<tr>\n",
    "<th>Company</th>\n",
    "<th>Contact</th>\n",
    "<th>Country</th>\n",
    "</tr>\n",
    "<tr>\n",
    "<td>Alfreds Futterkiste</td>\n",
    "<td>Maria Anders</td>\n",
    "<td>Germany</td>\n",
    "</tr>\n",
    "<tr>\n",
    "<td>Centro comercial Moctezuma</td>\n",
    "<td>Francisco Chang</td>\n",
    "<td>Mexico</td>\n",
    "</tr>\n",
    "<tr>\n",
    "<td>Ernst Handel</td>\n",
    "<td>Roland Mendel</td>\n",
    "<td>Austria</td>\n",
    "</tr>\n",
    "<tr>\n",
    "<td>Island Trading</td>\n",
    "<td>Helen Bennett</td>\n",
    "<td>UK</td>\n",
    "</tr>\n",
    "<tr>\n",
    "<td>Laughing Bacchus Winecellars</td>\n",
    "<td>Yoshi Tannamuri</td>\n",
    "<td>Canada</td>\n",
    "</tr>\n",
    "<tr>\n",
    "<td>Magazzini Alimentari Riuniti</td>\n",
    "<td>Giovanni Rovelli</td>\n",
    "<td>Italy</td>\n",
    "</tr>\n",
    "</table>\n",
    "<hr>\n",
    "<table style=\"width:100%\">\n",
    "<tr>\n",
    "<td>Emil</td>\n",
    "<td>Tobias</td>\n",
    "<td>Linus</td>\n",
    "</tr>\n",
    "<tr>\n",
    "<td>16</td>\n",
    "<td>14</td>\n",
    "<td>10</td>\n",
    "</tr>\n",
    "</table>\n",
    "<hr>\n",
    "<table border = \"1\">\n",
    "<tr>\n",
    "<th>Name</th>\n",
    "<th>Salary</th>\n",
    "</tr>\n",
    "<tr>\n",
    "<td>Ramesh Raman</td>\n",
    "<td>5000</td>\n",
    "</tr>\n",
    "\n",
    "<tr>\n",
    "<td>Shabbir Hussein</td>\n",
    "<td>7000</td>\n",
    "</tr>\n",
    "</table>\n",
    "<hr>\n",
    "<img src=\"https://www.sulasula.com/wp-content/uploads/cr_em13_14.jpg\">\n",
    "<img src=\"https://image.shutterstock.com/image-photo/jungle-fowl-nature-gallus-260nw-1036110832.jpg\">\n",
    "<img src=\"https://us.123rf.com/450wm/michellet/michellet0906/michellet090600002/4970024-potrait-of-rooster.jpg?ver=6\">\n",
    "<hr>\n",
    "<blockquote cite=\"http://www.worldwildlife.org/who/index.html\">\n",
    "For 50 years, WWF has been protecting the future of nature. The world's leading conservation organization, WWF works in 100 countries and is supported by 1.2 million members in the United States and close to 5 million globally.\n",
    "</blockquote>\n",
    "<del>Strikeed throgh</del>\n",
    "\n",
    "<hr>\n",
    "\n"
   ]
  },
  {
   "cell_type": "markdown",
   "metadata": {},
   "source": []
  }
 ],
 "metadata": {
  "kernelspec": {
   "display_name": "Python",
   "language": "python",
   "name": "conda-env-python-py"
  },
  "language_info": {
   "codemirror_mode": {
    "name": "ipython",
    "version": 3
   },
   "file_extension": ".py",
   "mimetype": "text/x-python",
   "name": "python",
   "nbconvert_exporter": "python",
   "pygments_lexer": "ipython3",
   "version": "3.7.12"
  }
 },
 "nbformat": 4,
 "nbformat_minor": 4
}
